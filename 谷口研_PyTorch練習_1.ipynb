{
  "cells": [
    {
      "cell_type": "markdown",
      "metadata": {
        "id": "view-in-github",
        "colab_type": "text"
      },
      "source": [
        "<a href=\"https://colab.research.google.com/github/NekoKumaSann/PyTorch_Tutorial/blob/main/%E8%B0%B7%E5%8F%A3%E7%A0%94_PyTorch%E7%B7%B4%E7%BF%92_1.ipynb\" target=\"_parent\"><img src=\"https://colab.research.google.com/assets/colab-badge.svg\" alt=\"Open In Colab\"/></a>"
      ]
    },
    {
      "cell_type": "markdown",
      "metadata": {
        "id": "tIuwVg57sIJq"
      },
      "source": [
        "# 応用情報工学演習（谷口研）深層学習ベースの画像認識 PyTorchの基本1"
      ]
    },
    {
      "cell_type": "markdown",
      "metadata": {
        "id": "23u-FniGsIJv"
      },
      "source": [
        "## PyTorch\n",
        "\n",
        "PyTorch（パイトーチ）は、Pythonのオープンソース機械学習ライブラリ（Deep Learningライブラリ）です。\n",
        "\n",
        "Facebookの人工知能研究グループAI Research lab（FAIR）により開発されました。\n",
        "\n",
        "類似のライブラリとしては、[Keras](https://keras.io)や[TensorFlow](https://www.tensorflow.org)があります。\n",
        "\n",
        "PyTorchは、最先端のディープラーニングの研究では主流となっています。\n",
        "谷口研でも、PyTorchの利用が主流です。\n",
        "\n",
        "以下は、PyTorchの公式資料です。適宜参照してください。\n",
        "\n",
        "* [PyTorch公式サイト](https://pytorch.org/)\n",
        "* [PyTorch Tutorials](https://pytorch.org/tutorials)\n",
        "* [PyTorch documentation](https://pytorch.org/docs)\n",
        "\n",
        "PyTorchの利用方法を確認しつつ、最終的にConvolutional Neural Network（CNN）による画像認識ができるようになることを目標とします。\n"
      ]
    },
    {
      "cell_type": "markdown",
      "metadata": {
        "id": "6rOPE2m0sIJy"
      },
      "source": [
        "**ライブラリインポート**"
      ]
    },
    {
      "cell_type": "code",
      "execution_count": null,
      "metadata": {
        "id": "ihkyJJhbsIJz"
      },
      "outputs": [],
      "source": [
        "# PyTorchライブラリ\n",
        "\n",
        "import torch"
      ]
    },
    {
      "cell_type": "code",
      "execution_count": null,
      "metadata": {
        "id": "mMbQKwkWsIJ0"
      },
      "outputs": [],
      "source": [
        "# その他のライブラリ\n",
        "\n",
        "import numpy as np"
      ]
    },
    {
      "cell_type": "markdown",
      "metadata": {
        "id": "pIHc4YxrsIJ0"
      },
      "source": [
        "## テンソル（Tensor）\n",
        "\n",
        "PyTorchでは、演算対象のデータはすべてテンソル（Tensor）という独自のクラスで表現します。\n",
        "\n",
        "テンソルはNumPyのndarraysに似ていますが、違いとしてGPUや他のハードウェアアクセラレータ上で動作させることができます。\n",
        "\n",
        "また、ディープラーニングで重要な微分に最適化されています。\n",
        "\n",
        "テンソルの基本的な使い方を確認します。"
      ]
    },
    {
      "cell_type": "markdown",
      "metadata": {
        "id": "qNpNfUJDqwhg"
      },
      "source": [
        "### テンソルの初期化\n",
        "\n",
        "テンソルは様々な手法で初期化できます。\n",
        "\n",
        "以下に例を示します。\n",
        "\n"
      ]
    },
    {
      "cell_type": "markdown",
      "metadata": {
        "id": "gD6xIZDhrEvF"
      },
      "source": [
        "**データから直接テンソルに変換**\n",
        "\n",
        "データから直接テンソルを作ることができます。\n",
        "\n",
        "その際、データ型は自動的に推測されます。\n"
      ]
    },
    {
      "cell_type": "code",
      "execution_count": null,
      "metadata": {
        "id": "1Zo-5JUco65i"
      },
      "outputs": [],
      "source": [
        "data = [[1, 2],[3, 4]]\n",
        "x_data = torch.tensor(data)"
      ]
    },
    {
      "cell_type": "markdown",
      "metadata": {
        "id": "0i4Re_DCo65j"
      },
      "source": [
        "**NumPy arrayからテンソルに変換**\n",
        "\n",
        "テンソルとNumpy arraysは相互に変換可能です。\n",
        "\n"
      ]
    },
    {
      "cell_type": "code",
      "execution_count": null,
      "metadata": {
        "id": "SErVsUQmo65k"
      },
      "outputs": [],
      "source": [
        "np_array = np.array(data)\n",
        "x_np = torch.from_numpy(np_array)"
      ]
    },
    {
      "cell_type": "markdown",
      "metadata": {
        "id": "YIwtzI63o65k"
      },
      "source": [
        "**他のテンソルから作成**\n",
        "\n",
        "他のテンソルから新しいテンソルを作成する場合、明示的に上書きされない限り、引数のテンソルのプロパティ（形状、データ型）を保持します。\n"
      ]
    },
    {
      "cell_type": "code",
      "execution_count": null,
      "metadata": {
        "id": "W9AX5RQZo65l"
      },
      "outputs": [],
      "source": [
        "x_ones = torch.ones_like(x_data) # x_dataの特性（プロパティ）を維持\n",
        "print(f\"Ones Tensor: \\n {x_ones} \\n\")\n",
        "\n",
        "x_rand = torch.rand_like(x_data, dtype=torch.float) # x_dataのdatatypeを上書き更新\n",
        "print(f\"Random Tensor: \\n {x_rand} \\n\")"
      ]
    },
    {
      "cell_type": "markdown",
      "metadata": {
        "id": "smW9ouQZo65l"
      },
      "source": [
        "**ランダム値や定数のテンソルの作成**\n",
        "\n",
        "\n",
        "``shape``は、テンソルの次元を示すタプルです。\n",
        "\n",
        "以下の例では、shapeからテンソルのサイズを決めています。\n",
        "\n",
        "\n",
        "\n"
      ]
    },
    {
      "cell_type": "code",
      "execution_count": null,
      "metadata": {
        "id": "nrHFyTYCo65m"
      },
      "outputs": [],
      "source": [
        "shape = (2,3,)\n",
        "rand_tensor = torch.rand(shape)\n",
        "ones_tensor = torch.ones(shape)\n",
        "zeros_tensor = torch.zeros(shape)\n",
        "\n",
        "print(f\"Random Tensor: \\n {rand_tensor} \\n\")\n",
        "print(f\"Ones Tensor: \\n {ones_tensor} \\n\")\n",
        "print(f\"Zeros Tensor: \\n {zeros_tensor}\")"
      ]
    },
    {
      "cell_type": "markdown",
      "metadata": {
        "id": "lX4udb5ao65n"
      },
      "source": [
        "### テンソルの属性変数\n",
        "\n",
        "テンソルは属性変数として、その形状、データの型、保存されているデバイスを保持しています。\n"
      ]
    },
    {
      "cell_type": "code",
      "execution_count": null,
      "metadata": {
        "id": "iXMqBDEXo65n"
      },
      "outputs": [],
      "source": [
        "tensor = torch.rand(3,4)\n",
        "\n",
        "print(f\"Shape of tensor: {tensor.shape}\")\n",
        "print(f\"Datatype of tensor: {tensor.dtype}\")\n",
        "print(f\"Device tensor is stored on: {tensor.device}\")"
      ]
    },
    {
      "cell_type": "markdown",
      "metadata": {
        "id": "Z6hnnVOCo65o"
      },
      "source": [
        "### テンソルの操作\n",
        "\n",
        "PyTorchでは、算術、線形代数、行列操作（転置、インデックス、スライス）など、100種類以上のテンソル演算が可能です。\n",
        "\n",
        "種々操作の詳細は[こちら](https://pytorch.org/docs/stable/torch.html)をご覧ください。\n",
        "\n"
      ]
    },
    {
      "cell_type": "markdown",
      "metadata": {
        "id": "syaRBPBho65p"
      },
      "source": [
        "テンソル操作の中からいくつかを試してみましょう。\n",
        "\n",
        "NumPy APIに慣れていれば、Tensor APIも簡単に使えるようになると思います。\n",
        "\n",
        "\n"
      ]
    },
    {
      "cell_type": "markdown",
      "metadata": {
        "id": "3s1FPBpSsIJ5"
      },
      "source": [
        "**演習問題**\n",
        "\n",
        "NumPyで学んだ操作をTensorでも試してみましょう。\n"
      ]
    },
    {
      "cell_type": "code",
      "execution_count": null,
      "metadata": {
        "id": "9m5gvkuJsIJ6"
      },
      "outputs": [],
      "source": [
        "# 4 x 4のテンソルを作る\n",
        "t = torch.tensor([[0.6217, 0.7413, 0.1310, 0.2747],\n",
        "        [0.2945, 0.1933, 0.4784, 0.1593],\n",
        "        [0.5192, 0.9683, 0.9831, 0.5339],\n",
        "        [0.7758, 0.1899, 0.0394, 0.6244]])\n",
        "print (t)"
      ]
    },
    {
      "cell_type": "code",
      "execution_count": null,
      "metadata": {
        "id": "GPMoQHPisIJ7"
      },
      "outputs": [],
      "source": [
        "# 最初の行を表示\n",
        "t\n",
        "\n",
        "# tensor([0.6217, 0.7413, 0.1310, 0.2747])"
      ]
    },
    {
      "cell_type": "code",
      "execution_count": null,
      "metadata": {
        "id": "E5A7_NjOsIJ7"
      },
      "outputs": [],
      "source": [
        "# 最初の列を表示\n",
        "t\n",
        "\n",
        "# tensor([0.6217, 0.2945, 0.5192, 0.7758])"
      ]
    },
    {
      "cell_type": "code",
      "execution_count": null,
      "metadata": {
        "id": "qsx5ebHtsIJ8"
      },
      "outputs": [],
      "source": [
        "# 最後の列を表示\n",
        "t\n",
        "\n",
        "# tensor([0.2747, 0.1593, 0.5339, 0.6244])"
      ]
    },
    {
      "cell_type": "code",
      "execution_count": null,
      "metadata": {
        "id": "rYhu5DX5sIJ8"
      },
      "outputs": [],
      "source": [
        "# 2列目をすべて0にする\n",
        "t\n",
        "\n",
        "print(t) # tensor([[0.6217, 0.0000, 0.1310, 0.2747],\n",
        "#                  [0.2945, 0.0000, 0.4784, 0.1593],\n",
        "#                  [0.5192, 0.0000, 0.9831, 0.5339],\n",
        "#                  [0.7758, 0.0000, 0.0394, 0.6244]])"
      ]
    },
    {
      "cell_type": "markdown",
      "metadata": {
        "id": "wHWwoi5wo65p"
      },
      "source": [
        "**テンソルの結合**\n",
        "\n",
        "\n",
        "``torch.cat``を使用することで、テンソルを特定の次元に沿って結合させることができます（詳細は[こちら](https://pytorch.org/docs/stable/generated/torch.cat.html#torch.cat)をご覧ください）。\n",
        "\n",
        "``torch.cat``とは微妙に異なるテンソル結合演算である[``torch.stack``](https://pytorch.org/docs/stable/generated/torch.stack.html)も確認しておいてください。\n",
        "\n"
      ]
    },
    {
      "cell_type": "code",
      "execution_count": null,
      "metadata": {
        "id": "cS0A8qYao65q"
      },
      "outputs": [],
      "source": [
        "t0 = torch.rand(4, 4)\n",
        "print(t0)\n",
        "t1 = torch.cat([t0, t0, t0], dim=1)\n",
        "print(t1)"
      ]
    },
    {
      "cell_type": "code",
      "source": [
        "t0 = torch.rand(4, 4)\n",
        "print(t0)\n",
        "t1 = torch.stack([t0, t0, t0])\n",
        "print(t1)"
      ],
      "metadata": {
        "id": "mIO2Ol5zkXlA"
      },
      "execution_count": null,
      "outputs": []
    },
    {
      "cell_type": "markdown",
      "metadata": {
        "id": "wVuoj3lDo65q"
      },
      "source": [
        "**算術演算**\n",
        "\n"
      ]
    },
    {
      "cell_type": "code",
      "execution_count": null,
      "metadata": {
        "id": "L00SHkoMo65q"
      },
      "outputs": [],
      "source": [
        "tensor = torch.rand(4, 4)"
      ]
    },
    {
      "cell_type": "code",
      "source": [
        "# 2つのテンソル行列のかけ算です。 y1, y2, y3 は同じ結果になります。\n",
        "y1 = tensor @ tensor.T\n",
        "y2 = tensor.matmul(tensor.T)\n",
        "\n",
        "y3 = torch.rand_like(tensor)\n",
        "torch.matmul(tensor, tensor.T, out=y3)\n",
        "\n",
        "print(f\"y1:{y1}\")\n",
        "print(f\"y2:{y2}\")\n",
        "print(f\"y3:{y3}\")"
      ],
      "metadata": {
        "id": "ydhaqur6u6al"
      },
      "execution_count": null,
      "outputs": []
    },
    {
      "cell_type": "code",
      "source": [
        "# こちらは、要素ごとの積を求めます。 z1, z2, z3 は同じ値になります。\n",
        "z1 = tensor * tensor\n",
        "z2 = tensor.mul(tensor)\n",
        "\n",
        "z3 = torch.rand_like(tensor)\n",
        "torch.mul(tensor, tensor, out=z3)\n",
        "\n",
        "print(f\"z1:{z1}\")\n",
        "print(f\"z2:{z2}\")\n",
        "print(f\"z3:{z3}\")"
      ],
      "metadata": {
        "id": "jZE5tQe6u-PX"
      },
      "execution_count": null,
      "outputs": []
    },
    {
      "cell_type": "markdown",
      "metadata": {
        "id": "zCjumJ0uo65r"
      },
      "source": [
        "**1要素のテンソル**\n",
        "\n",
        "1要素のテンソル（テンソルの全要素を足し算する等をした結果生まれます）を扱う場合には、``.item()``を使用することでPythonの数値型変数に変換できます。\n",
        "\n",
        "\n"
      ]
    },
    {
      "cell_type": "code",
      "execution_count": null,
      "metadata": {
        "id": "TrA8pq1Jo65r"
      },
      "outputs": [],
      "source": [
        "tensor = torch.arange(0,10,1).reshape([5, 2])\n",
        "print(tensor)"
      ]
    },
    {
      "cell_type": "code",
      "source": [
        "agg = tensor.sum()\n",
        "agg_item = agg.item()\n",
        "print(agg_item, type(agg_item)) # int型であることを確認"
      ],
      "metadata": {
        "id": "phmH96_vx-QT"
      },
      "execution_count": null,
      "outputs": []
    },
    {
      "cell_type": "markdown",
      "metadata": {
        "id": "3-KDP7cFo65t"
      },
      "source": [
        "### NumPyとの変換\n",
        "\n",
        "\n",
        "CPU上のテンソルとNumpy arraysは同じメモリを共有することができ、相互変換が容易です。\n",
        "\n"
      ]
    },
    {
      "cell_type": "markdown",
      "metadata": {
        "id": "Tmbb956fo65t"
      },
      "source": [
        "**Tensor to NumPy array**\n",
        "\n"
      ]
    },
    {
      "cell_type": "code",
      "execution_count": null,
      "metadata": {
        "id": "AlExSMGso65u"
      },
      "outputs": [],
      "source": [
        "t = torch.ones(5)\n",
        "print(f\"t: {t}\")\n",
        "n = t.numpy()\n",
        "print(f\"n: {n}\")"
      ]
    },
    {
      "cell_type": "markdown",
      "metadata": {
        "id": "yyPjEJA6o65u"
      },
      "source": [
        "この際、テンソルが変化すると、Numpy側も変化します。\n",
        "\n"
      ]
    },
    {
      "cell_type": "code",
      "execution_count": null,
      "metadata": {
        "id": "4SuCn_Lro65v"
      },
      "outputs": [],
      "source": [
        "t.add_(1)\n",
        "print(f\"t: {t}\")\n",
        "print(f\"n: {n}\")"
      ]
    },
    {
      "cell_type": "markdown",
      "metadata": {
        "id": "Rc7EbiQco65w"
      },
      "source": [
        "**NumPy array to Tensor**\n",
        "\n"
      ]
    },
    {
      "cell_type": "code",
      "execution_count": null,
      "metadata": {
        "id": "KbrBK5x3o65w"
      },
      "outputs": [],
      "source": [
        "n = np.ones(5)\n",
        "t = torch.from_numpy(n)"
      ]
    },
    {
      "cell_type": "markdown",
      "metadata": {
        "id": "FD4gRgwio65w"
      },
      "source": [
        "NumPy arrayの変化はテンソル側にも反映されます（実体は同じ）。\n",
        "\n"
      ]
    },
    {
      "cell_type": "code",
      "execution_count": null,
      "metadata": {
        "id": "dEjB9iMJo65w"
      },
      "outputs": [],
      "source": [
        "np.add(n, 1, out=n)\n",
        "print(f\"t: {t}\")\n",
        "print(f\"n: {n}\")"
      ]
    },
    {
      "cell_type": "markdown",
      "metadata": {
        "id": "c6M2vJPjsIKQ"
      },
      "source": [
        "### よく使う関数"
      ]
    },
    {
      "cell_type": "markdown",
      "metadata": {
        "id": "vc5dvrZgNr_f"
      },
      "source": [
        "**いろいろな階数のTensorを作る**"
      ]
    },
    {
      "cell_type": "code",
      "execution_count": null,
      "metadata": {
        "id": "4I1RggAmNr_g"
      },
      "outputs": [],
      "source": [
        "# 0階テンソル (スカラー)\n",
        "r0 = torch.tensor(1.0).float()\n",
        "\n",
        "# typeを調べる\n",
        "print(type(r0))\n",
        "\n",
        "# dtypeを調べる\n",
        "print(r0.dtype)"
      ]
    },
    {
      "cell_type": "code",
      "execution_count": null,
      "metadata": {
        "id": "-VgfrubLNr_g"
      },
      "outputs": [],
      "source": [
        "# shapeを調べる\n",
        "print(r0.shape)\n",
        "\n",
        "# データを調べる\n",
        "print(r0.data)"
      ]
    },
    {
      "cell_type": "code",
      "execution_count": null,
      "metadata": {
        "id": "X0D_1LNKNr_g"
      },
      "outputs": [],
      "source": [
        "# 1階テンソル (ベクトル)\n",
        "\n",
        "# 1階のNumPy変数作成\n",
        "r1_np = np.array([1, 2, 3, 4, 5])\n",
        "print(r1_np.shape)\n",
        "\n",
        "# NumPyからテンソルに変換\n",
        "r1 = torch.tensor(r1_np).float()\n",
        "\n",
        "# dtypeを調べる\n",
        "print(r1.dtype)\n",
        "\n",
        "# shapeを調べる\n",
        "print(r1.shape)\n",
        "\n",
        "# データを調べる\n",
        "print(r1.data)"
      ]
    },
    {
      "cell_type": "code",
      "execution_count": null,
      "metadata": {
        "id": "VamMmZJYNr_h"
      },
      "outputs": [],
      "source": [
        "# 2階テンソル (行列)\n",
        "\n",
        "# 2階のNmPy変数作成\n",
        "r2_np = np.array([[1, 5, 6], [4, 3, 2]])\n",
        "print(r2_np.shape)\n",
        "\n",
        "# NumPyからテンソルに変換\n",
        "r2 = torch.tensor(r2_np).float()\n",
        "\n",
        "# shapeを調べる\n",
        "print(r2.shape)\n",
        "\n",
        "# データを調べる\n",
        "print(r2.data)"
      ]
    },
    {
      "cell_type": "code",
      "execution_count": null,
      "metadata": {
        "id": "2X7xX5adNr_h"
      },
      "outputs": [],
      "source": [
        "# ３階テンソル\n",
        "\n",
        "# 乱数seedの初期化\n",
        "torch.manual_seed(123)\n",
        "\n",
        "# shape=[3,2,2]の正規分布変数テンソルを作る\n",
        "r3 = torch.randn((3, 2, 2))\n",
        "\n",
        "# shapeを調べる\n",
        "print(r3.shape)\n",
        "\n",
        "# データを調べる\n",
        "print(r3.data)"
      ]
    },
    {
      "cell_type": "code",
      "execution_count": null,
      "metadata": {
        "id": "bUB69bIeNr_h"
      },
      "outputs": [],
      "source": [
        "# 4階テンソル\n",
        "\n",
        "# shape=[2,3,2,2]の要素がすべて1のテンソルを作る\n",
        "r4 = torch.ones((2, 3, 2, 2))\n",
        "\n",
        "# shapeを調べる\n",
        "print(r4.shape)\n",
        "\n",
        "# データを調べる\n",
        "print(r4.data)"
      ]
    },
    {
      "cell_type": "markdown",
      "metadata": {
        "id": "2Xnbo2FqsIKS"
      },
      "source": [
        "**整数型テンソルを作る**"
      ]
    },
    {
      "cell_type": "code",
      "execution_count": null,
      "metadata": {
        "id": "R-0ZFcwrNr_i"
      },
      "outputs": [],
      "source": [
        "# 整数型\n",
        "r5 = r1.long()\n",
        "\n",
        "# dtype　を確認\n",
        "print(r5.dtype)\n",
        "\n",
        "# 値を確認\n",
        "print(r5)"
      ]
    },
    {
      "cell_type": "markdown",
      "metadata": {
        "id": "b9UAIFWGsIKT"
      },
      "source": [
        "**sum関数**"
      ]
    },
    {
      "cell_type": "code",
      "execution_count": null,
      "metadata": {
        "id": "-RNAltxWsIKT"
      },
      "outputs": [],
      "source": [
        "# 総和計算\n",
        "print(r1.sum())\n"
      ]
    },
    {
      "cell_type": "markdown",
      "metadata": {
        "id": "xBG7lLjANr_i"
      },
      "source": [
        "**view関数**"
      ]
    },
    {
      "cell_type": "code",
      "execution_count": null,
      "metadata": {
        "id": "LPPH3l5sNr_i"
      },
      "outputs": [],
      "source": [
        "# 2階化\n",
        "\n",
        "# shape=[3,2,2]の正規分布変数テンソルを作る\n",
        "r3 = torch.randn((3, 2, 2))\n",
        "print(r3)\n",
        "\n",
        "# 要素数に-1を指定すると、この数を自動調整する\n",
        "r6 = r3.view(3, -1)\n",
        "\n",
        "# shape確認\n",
        "print(r6.shape)\n",
        "\n",
        "# 値確認\n",
        "print(r6.data)"
      ]
    },
    {
      "cell_type": "code",
      "execution_count": null,
      "metadata": {
        "id": "BXeVtrWVNr_i",
        "scrolled": false
      },
      "outputs": [],
      "source": [
        "# 1階化\n",
        "\n",
        "# shape=[3,2,2]の正規分布変数テンソルを作る\n",
        "r3 = torch.randn((3, 2, 2))\n",
        "print(r3)\n",
        "\n",
        "# 要素数に-1を指定すると、この数を自動調整する\n",
        "r7 = r3.view(-1)\n",
        "\n",
        "# shape確認\n",
        "print(r7.shape)\n",
        "\n",
        "# 値確認\n",
        "print(r7.data)"
      ]
    },
    {
      "cell_type": "markdown",
      "metadata": {
        "id": "0g-6LRsnNr_j"
      },
      "source": [
        "**item関数**"
      ]
    },
    {
      "cell_type": "code",
      "execution_count": null,
      "metadata": {
        "id": "Tu3wXoDFNr_j",
        "scrolled": false
      },
      "outputs": [],
      "source": [
        "# スカラーテンソル(0階テンソル)に対してはitem関数で値を取り出せる\n",
        "\n",
        "item = r0.item()\n",
        "\n",
        "print(type(item))\n",
        "print(item)"
      ]
    },
    {
      "cell_type": "code",
      "execution_count": null,
      "metadata": {
        "id": "zwi8v5C0Nr_j"
      },
      "outputs": [],
      "source": [
        "# 0階以外のテンソルにitem関数は無効 (エラーになる)\n",
        "\n",
        "print(r1.item())"
      ]
    },
    {
      "cell_type": "code",
      "execution_count": null,
      "metadata": {
        "id": "dvE5Cy3iNr_k"
      },
      "outputs": [],
      "source": [
        "# 要素数が1つだけの1階テンソルはOK\n",
        "# (2階以上でも同様)\n",
        "t1 = torch.ones(1)\n",
        "\n",
        "# shape確認\n",
        "print(t1.shape)\n",
        "\n",
        "# item関数呼び出し\n",
        "print(t1.item())"
      ]
    },
    {
      "cell_type": "markdown",
      "metadata": {
        "id": "JnrnIuI-Nr_k"
      },
      "source": [
        "**max関数**"
      ]
    },
    {
      "cell_type": "code",
      "execution_count": null,
      "metadata": {
        "id": "bwyLGh_SNr_k"
      },
      "outputs": [],
      "source": [
        "# 元テンソルr2の確認\n",
        "print(r2)\n",
        "\n",
        "# max関数を引数なしで呼び出すと、全体の最大値が取得できる\n",
        "print(r2.max())"
      ]
    },
    {
      "cell_type": "code",
      "execution_count": null,
      "metadata": {
        "id": "kLkNmIS9Nr_k"
      },
      "outputs": [],
      "source": [
        "# torch.max関数\n",
        "# 2つめの引数はどの軸で集約するかを意味する\n",
        "print(torch.max(r2, 1))"
      ]
    },
    {
      "cell_type": "code",
      "execution_count": null,
      "metadata": {
        "id": "lwiblU1vNr_l"
      },
      "outputs": [],
      "source": [
        "# 何番目の要素が最大値をとるかは、indicesを調べればいい\n",
        "# 以下の計算は、多値分類で予測ラベルを求めるときによく利用されるパターン\n",
        "print(torch.max(r2, 1)[1])"
      ]
    },
    {
      "cell_type": "markdown",
      "metadata": {
        "id": "q1V7GqFVsIKW"
      },
      "source": [
        "### <練習問題1>"
      ]
    },
    {
      "cell_type": "markdown",
      "metadata": {
        "id": "dRRk8xpGsIKW"
      },
      "source": [
        "**<練習問題1-1>**\n",
        "\n",
        "[1, 1, 0, 1, 0, 1, 1, 0, 1, 1]をもつ1階のテンソルytと[1, 1, 0, 1, 0, 1, 1, 1, 1, 1]をもつ1階のテンソルypを作成する。"
      ]
    },
    {
      "cell_type": "code",
      "execution_count": null,
      "metadata": {
        "id": "xd459qoPsIKX"
      },
      "outputs": [],
      "source": [
        "yt\n",
        "yp\n",
        "\n",
        "print(yt)\n",
        "print(yp)"
      ]
    },
    {
      "cell_type": "markdown",
      "metadata": {
        "id": "xjVDiStJsIKX"
      },
      "source": [
        "**<練習問題1-2>**\n",
        "\n",
        "上記で作成したテンソルytとypの一致している要素数の総和を求める。"
      ]
    },
    {
      "cell_type": "code",
      "execution_count": null,
      "metadata": {
        "id": "kggvtIhdsIKX"
      },
      "outputs": [],
      "source": [
        "# 1行でmatchedへ要素数の総和を代入\n",
        "matched\n",
        "\n",
        "print(matched)\n",
        "\n",
        "# テスト、以下でエラーがでないことを確認\n",
        "assert matched==9, f'Mismatched'"
      ]
    },
    {
      "cell_type": "markdown",
      "metadata": {
        "id": "CdXSwiiFsIKX"
      },
      "source": [
        "-----------"
      ]
    },
    {
      "cell_type": "markdown",
      "metadata": {
        "id": "_h8b_09isIKX"
      },
      "source": [
        "## 自動微分機能\n",
        "\n",
        "ニューラルネットワークを訓練する際、その学習アルゴリズムとして、基本的にはバックプロパゲーション（back propagation）が使用されます。\n",
        "\n",
        "バックプロパゲーションでは、モデルの重みなどの各パラメータは、損失関数に対するその変数の微分値（勾配）に応じて調整されます。\n",
        "\n",
        "これらの勾配の値を計算するために、PyTorchにはtorch.autograd という微分エンジンが組み込まれています。\n",
        "\n",
        "autogradはPyTorchの計算グラフに対する勾配の自動計算を支援します。\n"
      ]
    },
    {
      "cell_type": "markdown",
      "metadata": {
        "id": "Hyc-HOwysIKX"
      },
      "source": [
        "PyTorchで自動微分を行う場合の処理の流れを以下に示します。\n",
        "\n",
        "1. 勾配計算用変数の定義  \n",
        "requires_grad = Trueとする\n",
        "1. テンソル変数間で計算  \n",
        "裏で計算グラフが自動生成される\n",
        "1. 勾配計算\n",
        "1. 勾配値の取得  \n",
        "grad属性\n",
        "1. 勾配値の初期化  \n",
        "zero_関数\n",
        "\n",
        "2次関数を例にして、PyTorchで自動微分機能を確認しましょう。"
      ]
    },
    {
      "cell_type": "markdown",
      "metadata": {
        "id": "85on1hQ4Nr_l"
      },
      "source": [
        "## 2次関数の勾配計算"
      ]
    },
    {
      "cell_type": "code",
      "execution_count": null,
      "metadata": {
        "id": "1AjWTx1RsIKX"
      },
      "outputs": [],
      "source": [
        "\n",
        "# ライブラリインポート\n",
        "\n",
        "%matplotlib inline\n",
        "import torch\n",
        "import numpy as np\n",
        "import matplotlib.pyplot as plt\n",
        "from IPython.display import display\n"
      ]
    },
    {
      "cell_type": "code",
      "execution_count": null,
      "metadata": {
        "id": "047WoiE6sIKX"
      },
      "outputs": [],
      "source": [
        "# matplotlibの設定\n",
        "\n",
        "## デフォルトフォントサイズ変更\n",
        "plt.rcParams['font.size'] = 14\n",
        "\n",
        "## デフォルトグラフサイズ変更\n",
        "plt.rcParams['figure.figsize'] = (6,6)\n",
        "\n",
        "## デフォルトで方眼表示ON\n",
        "plt.rcParams['axes.grid'] = True"
      ]
    },
    {
      "cell_type": "markdown",
      "metadata": {
        "id": "YiUz1baKNr_l"
      },
      "source": [
        " **データ準備**"
      ]
    },
    {
      "cell_type": "code",
      "execution_count": null,
      "metadata": {
        "id": "2K1rvdhiNr_l"
      },
      "outputs": [],
      "source": [
        "# xをnumpy配列で定義\n",
        "x_np = np.arange(-2, 2.1, 0.25)\n",
        "\n",
        "# xの値表示\n",
        "print(x_np)"
      ]
    },
    {
      "cell_type": "code",
      "execution_count": null,
      "metadata": {
        "id": "H_YBx-t9Nr_m"
      },
      "outputs": [],
      "source": [
        "# (1) 勾配計算用変数の定義\n",
        "x = torch.tensor(x_np, requires_grad=True, dtype=torch.float32)\n",
        "\n",
        "# 結果確認\n",
        "print(x)"
      ]
    },
    {
      "cell_type": "markdown",
      "metadata": {
        "id": "oos9Q69GNr_m"
      },
      "source": [
        "**２次関数の計算**"
      ]
    },
    {
      "cell_type": "code",
      "execution_count": null,
      "metadata": {
        "id": "ky1X5hPHNr_m"
      },
      "outputs": [],
      "source": [
        "# 2次関数の計算\n",
        "# 裏で計算グラフが自動生成される\n",
        "\n",
        "y = 2 * x**2 + 2"
      ]
    },
    {
      "cell_type": "markdown",
      "metadata": {
        "id": "iiL8-98INr_m"
      },
      "source": [
        "$ y = 2x^2 + 2$ を意味する"
      ]
    },
    {
      "cell_type": "code",
      "execution_count": null,
      "metadata": {
        "id": "m0Pwm9jUNr_m"
      },
      "outputs": [],
      "source": [
        "# yの計算結果確認\n",
        "\n",
        "print(y)"
      ]
    },
    {
      "cell_type": "code",
      "execution_count": null,
      "metadata": {
        "id": "-ONyC7tSNr_m"
      },
      "outputs": [],
      "source": [
        "# グラフ(散布図)描画\n",
        "\n",
        "plt.plot(x.data, y.data)\n",
        "plt.show()"
      ]
    },
    {
      "cell_type": "code",
      "execution_count": null,
      "metadata": {
        "id": "L9S2STdKNr_n"
      },
      "outputs": [],
      "source": [
        "# 勾配計算のためには、最終値はスカラーの必要があるため、ダミーでsum関数をかける\n",
        "\n",
        "z = y.sum()"
      ]
    },
    {
      "cell_type": "code",
      "execution_count": null,
      "metadata": {
        "id": "Cugbjt5WNr_n"
      },
      "outputs": [],
      "source": [
        "# (3) 勾配計算\n",
        "\n",
        "z.backward()"
      ]
    },
    {
      "cell_type": "code",
      "execution_count": null,
      "metadata": {
        "id": "Po4-vTPPNr_n"
      },
      "outputs": [],
      "source": [
        "# (4) 勾配値の取得\n",
        "\n",
        "print(x.grad)"
      ]
    },
    {
      "cell_type": "code",
      "execution_count": null,
      "metadata": {
        "id": "ZaZ5KFSINr_o"
      },
      "outputs": [],
      "source": [
        "# 元の関数と勾配のグラフ化\n",
        "\n",
        "plt.plot(x.data, y.data, c='b', label='y')\n",
        "plt.plot(x.data, x.grad.data, c='k', label='y.grad')\n",
        "plt.legend()\n",
        "plt.show()"
      ]
    },
    {
      "cell_type": "markdown",
      "metadata": {
        "id": "nrBbdRIvNr_o"
      },
      "source": [
        "ここでもう一度勾配計算をしてみる。"
      ]
    },
    {
      "cell_type": "code",
      "execution_count": null,
      "metadata": {
        "id": "dOHxzxi0Nr_o"
      },
      "outputs": [],
      "source": [
        "# 勾配の初期化せずに２度目の勾配計算\n",
        "\n",
        "y = 2 * x**2 + 2\n",
        "z = y.sum()\n",
        "z.backward()\n",
        "\n",
        "# xの勾配確認\n",
        "print(x.grad)"
      ]
    },
    {
      "cell_type": "markdown",
      "metadata": {
        "id": "MFsyjUPXNr_o"
      },
      "source": [
        "勾配値は、勾配計算の結果がどんどん加算されてしまう。そのため新しい値を計算したい場合、勾配値のリセットが必要。"
      ]
    },
    {
      "cell_type": "code",
      "execution_count": null,
      "metadata": {
        "id": "FURKt3aENr_p"
      },
      "outputs": [],
      "source": [
        "# (5) 勾配の初期化は関数 zero_()を使う\n",
        "\n",
        "x.grad.zero_()\n",
        "print(x.grad)"
      ]
    },
    {
      "cell_type": "markdown",
      "metadata": {
        "id": "9kBJaZOFsIKc"
      },
      "source": [
        "## <練習問題2>\n",
        "\n",
        "シグモイド関数の微分を行い、勾配をシグモイド関数とともに図示してみましょう。\n",
        "\n",
        "シグモイド関数は数式で表すと次の形になります。\n",
        "\n",
        "$ y = \\dfrac{1}{1 + \\exp{(-x)}} $\n",
        "\n",
        "$\\exp()$の計算としてPyTorchでは`torch.exp`関数が利用できます。"
      ]
    },
    {
      "cell_type": "code",
      "execution_count": null,
      "metadata": {
        "id": "1A2ozRy4Nr_r"
      },
      "outputs": [],
      "source": [
        "%matplotlib inline\n",
        "import torch\n",
        "import numpy as np\n",
        "import matplotlib.pyplot as plt\n",
        "from IPython.display import display\n",
        "\n",
        "# シグモイド関数の定義\n",
        "def sigmoid(x):\n",
        "\n",
        "\n",
        "# 勾配計算用変数の定義\n",
        "x_np = np.arange(-2, 2.1, 0.25)\n",
        "\n",
        "# x_npをテンソル化したテンソルxを作成\n",
        "x\n",
        "\n",
        "\n",
        "# yの値の計算\n",
        "y = sigmoid(x)\n",
        "\n",
        "# 勾配計算のためには、最終値はスカラーの必要があるため、yをスカラー化したzを作成\n",
        "z\n",
        "\n",
        "# 勾配計算\n",
        "\n",
        "\n",
        "# 勾配値の確認\n",
        "print(x.grad)\n",
        "\n",
        "# 元の関数と勾配のグラフ化\n",
        "plt.plot(x.data, y.data, c='b', label='y')\n",
        "plt.plot(x.data, x.grad.data, c='k', label='y.grad')\n",
        "plt.legend()\n",
        "plt.show()"
      ]
    },
    {
      "cell_type": "code",
      "execution_count": null,
      "metadata": {
        "id": "pn2_69MYsIKd"
      },
      "outputs": [],
      "source": []
    },
    {
      "cell_type": "code",
      "execution_count": null,
      "metadata": {
        "id": "BPuTpsHJsIKe"
      },
      "outputs": [],
      "source": []
    }
  ],
  "metadata": {
    "kernelspec": {
      "display_name": "Python 3.9.12 ('it-ex-tlab')",
      "language": "python",
      "name": "python3"
    },
    "language_info": {
      "codemirror_mode": {
        "name": "ipython",
        "version": 3
      },
      "file_extension": ".py",
      "mimetype": "text/x-python",
      "name": "python",
      "nbconvert_exporter": "python",
      "pygments_lexer": "ipython3",
      "version": "3.9.12"
    },
    "toc": {
      "base_numbering": 1,
      "nav_menu": {},
      "number_sections": true,
      "sideBar": true,
      "skip_h1_title": true,
      "title_cell": "Table of Contents",
      "title_sidebar": "Contents",
      "toc_cell": true,
      "toc_position": {
        "height": "calc(100% - 180px)",
        "left": "10px",
        "top": "150px",
        "width": "232.133px"
      },
      "toc_section_display": true,
      "toc_window_display": true
    },
    "vscode": {
      "interpreter": {
        "hash": "90ca9be80bdec005a96118a32df39666d6ce271548be926e7333b3a69f84dcc5"
      }
    },
    "colab": {
      "provenance": [],
      "include_colab_link": true
    }
  },
  "nbformat": 4,
  "nbformat_minor": 0
}